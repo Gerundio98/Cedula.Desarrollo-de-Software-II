{
  "nbformat": 4,
  "nbformat_minor": 0,
  "metadata": {
    "colab": {
      "provenance": [],
      "authorship_tag": "ABX9TyNje/vOD/PfqQhbIaQebQZf",
      "include_colab_link": true
    },
    "kernelspec": {
      "name": "python3",
      "display_name": "Python 3"
    },
    "language_info": {
      "name": "python"
    }
  },
  "cells": [
    {
      "cell_type": "markdown",
      "metadata": {
        "id": "view-in-github",
        "colab_type": "text"
      },
      "source": [
        "<a href=\"https://colab.research.google.com/github/Gerundio98/Cedula.Desarrollo-de-Software-II/blob/main/M22_CNN_RodolfoPena.ipynb\" target=\"_parent\"><img src=\"https://colab.research.google.com/assets/colab-badge.svg\" alt=\"Open In Colab\"/></a>"
      ]
    },
    {
      "cell_type": "code",
      "execution_count": 1,
      "metadata": {
        "id": "cTKKmxIkAhY3"
      },
      "outputs": [],
      "source": [
        "import tensorflow as tf\n",
        "from tensorflow.keras.datasets import mnist\n",
        "from tensorflow.keras.models import Sequential\n",
        "from tensorflow.keras.layers import Conv2D, MaxPooling2D, Flatten, Dense\n",
        "import matplotlib.pyplot as plt\n",
        "import numpy as np\n",
        "import cv2\n",
        "\n"
      ]
    },
    {
      "cell_type": "markdown",
      "source": [
        "# 1. Carga del modelo CNN preentrenado y el conjunto de datos MNIST"
      ],
      "metadata": {
        "id": "K5ArBguqAjY0"
      }
    },
    {
      "cell_type": "code",
      "source": [
        "(X_train, y_train), (X_test, y_test) = mnist.load_data()\n",
        "X_train, X_test = X_train / 255.0, X_test / 255.0\n",
        "X_train = X_train.reshape(-1, 28, 28, 1)\n",
        "X_test = X_test.reshape(-1, 28, 28, 1)\n",
        "\n",
        "model = Sequential([\n",
        "    Conv2D(32, kernel_size=(3, 3), activation='relu', input_shape=(28, 28, 1)),\n",
        "    MaxPooling2D(pool_size=(2, 2)),\n",
        "    Conv2D(64, kernel_size=(3, 3), activation='relu'),\n",
        "    MaxPooling2D(pool_size=(2, 2)),\n",
        "    Flatten(),\n",
        "    Dense(128, activation='relu'),\n",
        "    Dense(10, activation='softmax')\n",
        "])\n",
        "\n",
        "model.compile(optimizer='adam', loss='sparse_categorical_crossentropy', metrics=['accuracy'])\n",
        "model.fit(X_train, y_train, epochs=5, batch_size=32, validation_split=0.2)\n",
        "model.evaluate(X_test, y_test)\n",
        "\n"
      ],
      "metadata": {
        "colab": {
          "base_uri": "https://localhost:8080/"
        },
        "id": "lFJlu9cPAnEq",
        "outputId": "f91addfd-b9b5-40f4-d93e-d59629243603"
      },
      "execution_count": 2,
      "outputs": [
        {
          "output_type": "stream",
          "name": "stdout",
          "text": [
            "Downloading data from https://storage.googleapis.com/tensorflow/tf-keras-datasets/mnist.npz\n",
            "11490434/11490434 [==============================] - 1s 0us/step\n",
            "Epoch 1/5\n",
            "1500/1500 [==============================] - 56s 35ms/step - loss: 0.1467 - accuracy: 0.9552 - val_loss: 0.0577 - val_accuracy: 0.9832\n",
            "Epoch 2/5\n",
            "1500/1500 [==============================] - 46s 31ms/step - loss: 0.0487 - accuracy: 0.9843 - val_loss: 0.0500 - val_accuracy: 0.9840\n",
            "Epoch 3/5\n",
            "1500/1500 [==============================] - 46s 31ms/step - loss: 0.0318 - accuracy: 0.9896 - val_loss: 0.0351 - val_accuracy: 0.9903\n",
            "Epoch 4/5\n",
            "1500/1500 [==============================] - 43s 29ms/step - loss: 0.0223 - accuracy: 0.9927 - val_loss: 0.0446 - val_accuracy: 0.9870\n",
            "Epoch 5/5\n",
            "1500/1500 [==============================] - 46s 30ms/step - loss: 0.0167 - accuracy: 0.9945 - val_loss: 0.0382 - val_accuracy: 0.9890\n",
            "313/313 [==============================] - 3s 10ms/step - loss: 0.0310 - accuracy: 0.9902\n"
          ]
        },
        {
          "output_type": "execute_result",
          "data": {
            "text/plain": [
              "[0.031034020707011223, 0.9901999831199646]"
            ]
          },
          "metadata": {},
          "execution_count": 2
        }
      ]
    },
    {
      "cell_type": "markdown",
      "source": [
        "# 2. Selección de una imagen de prueba"
      ],
      "metadata": {
        "id": "X5TLYe7kAsq5"
      }
    },
    {
      "cell_type": "code",
      "source": [
        "\n",
        "test_image = X_test[0]\n",
        "test_label = y_test[0]\n",
        "\n"
      ],
      "metadata": {
        "id": "9fdhHnWNAtLB"
      },
      "execution_count": 3,
      "outputs": []
    },
    {
      "cell_type": "markdown",
      "source": [
        "# 3. Clasificación de la imagen"
      ],
      "metadata": {
        "id": "9weW4RkoAzfI"
      }
    },
    {
      "cell_type": "code",
      "source": [
        "\n",
        "prediction = np.argmax(model.predict(np.expand_dims(test_image, axis=0)), axis=-1)\n",
        "print(f'Predicted class: {prediction}, True class: {test_label}')\n",
        "\n"
      ],
      "metadata": {
        "colab": {
          "base_uri": "https://localhost:8080/"
        },
        "id": "CmYrESwZAzxR",
        "outputId": "c0a68bdf-dabf-4232-ea85-721f74282d12"
      },
      "execution_count": 4,
      "outputs": [
        {
          "output_type": "stream",
          "name": "stdout",
          "text": [
            "1/1 [==============================] - 0s 197ms/step\n",
            "Predicted class: [7], True class: 7\n"
          ]
        }
      ]
    },
    {
      "cell_type": "markdown",
      "source": [
        "# 4. Visualización de activaciones\n"
      ],
      "metadata": {
        "id": "ujxiFwnsA4Tx"
      }
    },
    {
      "cell_type": "code",
      "source": [
        "# Ejecutar el modelo al menos una vez para que tenga definidos sus inputs\n",
        "model.predict(np.expand_dims(test_image, axis=0))\n",
        "\n",
        "layer_outputs = [layer.output for layer in model.layers if 'conv' in layer.name]\n",
        "activation_model = tf.keras.models.Model(inputs=model.input, outputs=layer_outputs)\n",
        "\n",
        "activations = activation_model.predict(np.expand_dims(test_image, axis=0))\n",
        "\n",
        "# Plotting the activations\n",
        "fig, axes = plt.subplots(len(activations), 8, figsize=(15, 15))\n",
        "for i, activation in enumerate(activations):\n",
        "    for j in range(min(8, activation.shape[-1])):  # ensure we don't go out of bounds\n",
        "        axes[i, j].imshow(activation[0, :, :, j], cmap='viridis')\n",
        "        axes[i, j].axis('off')\n",
        "plt.show()"
      ],
      "metadata": {
        "colab": {
          "base_uri": "https://localhost:8080/",
          "height": 825
        },
        "id": "H_lkDnsoA4uJ",
        "outputId": "3bcbc823-176e-4ead-8b54-879b6e7f3032"
      },
      "execution_count": 10,
      "outputs": [
        {
          "output_type": "stream",
          "name": "stdout",
          "text": [
            "1/1 [==============================] - 0s 33ms/step\n",
            "1/1 [==============================] - 0s 64ms/step\n"
          ]
        },
        {
          "output_type": "display_data",
          "data": {
            "text/plain": [
              "<Figure size 1500x1500 with 16 Axes>"
            ],
            "image/png": "[encoded data removed]"
          },
          "metadata": {}
        }
      ]
    },
    {
      "cell_type": "markdown",
      "source": [
        "# 5. Creación de mapas de calor con Grad-CAM"
      ],
      "metadata": {
        "id": "hLBVOd_qBCBB"
      }
    },
    {
      "cell_type": "code",
      "source": [
        "\n",
        "def get_gradcam_heatmap(model, img, class_index, layer_name):\n",
        "    grad_model = tf.keras.models.Model(\n",
        "        [model.inputs], [model.get_layer(layer_name).output, model.output]\n",
        "    )\n",
        "\n",
        "    with tf.GradientTape() as tape:\n",
        "        conv_outputs, predictions = grad_model(np.expand_dims(img, axis=0))\n",
        "        loss = predictions[:, class_index]\n",
        "\n",
        "    grads = tape.gradient(loss, conv_outputs)\n",
        "    pooled_grads = tf.reduce_mean(grads, axis=(0, 1, 2))\n",
        "    conv_outputs = conv_outputs[0]\n",
        "    heatmap = conv_outputs @ pooled_grads[..., tf.newaxis]\n",
        "    heatmap = tf.squeeze(heatmap)\n",
        "    heatmap = tf.maximum(heatmap, 0) / tf.math.reduce_max(heatmap)\n",
        "    return heatmap.numpy()\n",
        "\n",
        "heatmap = get_gradcam_heatmap(model, test_image, prediction[0], 'conv2d_1')\n",
        "\n",
        "plt.matshow(heatmap)\n",
        "plt.show()\n",
        "\n"
      ],
      "metadata": {
        "colab": {
          "base_uri": "https://localhost:8080/",
          "height": 437
        },
        "id": "qDAJZ8n0BCV7",
        "outputId": "9b4ed73f-b5f2-4306-9d2b-a7e788ba3f4d"
      },
      "execution_count": 9,
      "outputs": [
        {
          "output_type": "display_data",
          "data": {
            "text/plain": [
              "<Figure size 480x480 with 1 Axes>"
            ],
            "image/png": "[encoded data removed]"
          },
          "metadata": {}
        }
      ]
    },
    {
      "cell_type": "markdown",
      "source": [
        "# 6. Análisis e interpretación"
      ],
      "metadata": {
        "id": "mvfIeoYgBGny"
      }
    },
    {
      "cell_type": "code",
      "source": [
        "\n",
        "print(\"\"\"\n",
        "Las imágenes de activaciones muestran cómo las primeras capas convolucionales capturan características simples del dígito \"7\".\n",
        "Se observan contornos básicos y estructuras del número, como las líneas horizontales y diagonales que forman el \"7\".\n",
        "\n",
        "Por su parte las activaciones de las capas intermedias y finales capturan características más complejas y combinaciones de las características simples detectadas en las primeras capas.\n",
        "Esto ayuda al modelo a distinguir el dígito con mayor precisión a medida que las capas avanzan.\n",
        "\n",
        "El mapa de calor generado con Grad-CAM muestra las áreas de la imagen del dígito \"7\" que más contribuyen a la clasificación del modelo.\n",
        "Las áreas más calientes (amarillo y verde) indican que el modelo se enfoca en las líneas diagonales y horizontales, que son características definitorias del \"7\".\n",
        "\"\"\")\n"
      ],
      "metadata": {
        "colab": {
          "base_uri": "https://localhost:8080/"
        },
        "id": "gh2YBKQaBG3q",
        "outputId": "1bfdc0ab-78b6-4cf6-eb7c-4d8d09cdec25"
      },
      "execution_count": 11,
      "outputs": [
        {
          "output_type": "stream",
          "name": "stdout",
          "text": [
            "\n",
            "Las imágenes de activaciones muestran cómo las primeras capas convolucionales capturan características simples del dígito \"7\".\n",
            "Se observan contornos básicos y estructuras del número, como las líneas horizontales y diagonales que forman el \"7\".\n",
            "\n",
            "Por su parte las activaciones de las capas intermedias y finales capturan características más complejas y combinaciones de las características simples detectadas en las primeras capas.\n",
            "Esto ayuda al modelo a distinguir el dígito con mayor precisión a medida que las capas avanzan.\n",
            "\n",
            "El mapa de calor generado con Grad-CAM muestra las áreas de la imagen del dígito \"7\" que más contribuyen a la clasificación del modelo.\n",
            "Las áreas más calientes (amarillo y verde) indican que el modelo se enfoca en las líneas diagonales y horizontales, que son características definitorias del \"7\".\n",
            "\n"
          ]
        }
      ]
    },
    {
      "cell_type": "markdown",
      "source": [
        "# 7. Conclusiones"
      ],
      "metadata": {
        "id": "UP2SYbF1BRpS"
      }
    },
    {
      "cell_type": "code",
      "source": [
        "print(\"\"\"\n",
        "- Las visualizaciones de activaciones muestran cómo el modelo CNN extrae características importantes de la imagen de un dígito a través de sus capas convolucionales.\n",
        "- El mapa de calor de Grad-CAM resalta las regiones específicas de la imagen que son más influyentes para la decisión de clasificación del modelo.\n",
        "- Estas técnicas de interpretabilidad proporcionan una comprensión profunda de cómo el modelo CNN procesa las imágenes y toman decisiones, lo cual es esencial para confiar en sus predicciones y mejorar su diseño.\n",
        "\"\"\")"
      ],
      "metadata": {
        "colab": {
          "base_uri": "https://localhost:8080/"
        },
        "id": "9SSNHD0HBSJT",
        "outputId": "1d03fe37-a7fc-4e47-e760-cf14b76af08d"
      },
      "execution_count": 12,
      "outputs": [
        {
          "output_type": "stream",
          "name": "stdout",
          "text": [
            "\n",
            "- Las visualizaciones de activaciones muestran cómo el modelo CNN extrae características importantes de la imagen de un dígito a través de sus capas convolucionales.\n",
            "- El mapa de calor de Grad-CAM resalta las regiones específicas de la imagen que son más influyentes para la decisión de clasificación del modelo.\n",
            "- Estas técnicas de interpretabilidad proporcionan una comprensión profunda de cómo el modelo CNN procesa las imágenes y toman decisiones, lo cual es esencial para confiar en sus predicciones y mejorar su diseño.\n",
            "\n"
          ]
        }
      ]
    }
  ]
}