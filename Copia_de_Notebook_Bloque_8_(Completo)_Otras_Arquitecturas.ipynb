{
  "nbformat": 4,
  "nbformat_minor": 0,
  "metadata": {
    "colab": {
      "provenance": [],
      "include_colab_link": true
    },
    "kernelspec": {
      "name": "python3",
      "display_name": "Python 3"
    },
    "accelerator": "GPU"
  },
  "cells": [
    {
      "cell_type": "markdown",
      "metadata": {
        "id": "view-in-github",
        "colab_type": "text"
      },
      "source": [
        "<a href=\"https://colab.research.google.com/github/Gerundio98/Cedula.Desarrollo-de-Software-II/blob/main/Copia_de_Notebook_Bloque_8_(Completo)_Otras_Arquitecturas.ipynb\" target=\"_parent\"><img src=\"https://colab.research.google.com/assets/colab-badge.svg\" alt=\"Open In Colab\"/></a>"
      ]
    },
    {
      "cell_type": "markdown",
      "metadata": {
        "id": "p5PAhkSzbkRi"
      },
      "source": [
        "# **Teoría del Deep Learning.**\n",
        "### **Bloque 8 -** *Otras Arquitecturas de Redes Neuronales*\n",
        "\n",
        "---\n",
        "*Consejos de uso de Google Colab:*\n",
        "\n",
        "*   Puedes consultar la documentación sobre una función escribiendo **?** justo después de una función: *Ejemplo: np.maximum?*\n",
        "*   Puedes ejecutar el contenido de una celda con el atajo de teclado **CTRL+ENTER**\n",
        "*   Utiliza **TAB** cada vez que quieras autocompletar una llamada a una función.\n",
        "*   Puedes ejecutar instrucciones de bash directamente desde el notebook usando **!** : *Ejemplo: !pip install tensorflow*\n"
      ]
    },
    {
      "cell_type": "markdown",
      "metadata": {
        "id": "lY7Br-dhloHI"
      },
      "source": [
        "<p align=\"justify\">🔰<b>¡IMPORTANTE!</b>🔰 Recuerda activar en el entorno de Google Colab la Aceleración por Hardware con GPU. Esto acelerará los tiempos de entrenamiento de tus redes. Para activarlas tendrás que ir al menú <i>'Entorno de ejecución'</i>, luego a <i>'Cambiar tipo de entorno de ejecución'</i> y en el menú emergente que aparece cambia en el desplegable <i>'Acelerador por Hardware'</i> de <i>'None'</i> a <i>'GPU'</i>. Recuerda hacer esto cada vez que empieces a trabajar en Google Colab. 🚀"
      ]
    },
    {
      "cell_type": "markdown",
      "metadata": {
        "id": "E2yACAWXPOKF"
      },
      "source": [
        "## 📚 **Aumentación de Datos**\n",
        "<p align=\"justify\">En el módulo previo, observamos cómo una simple <i>Red Neuronal Multicapa</i> nos permitió alcanzar una tasa de acierto cercana al 96% al predecir números del conjunto de datos MNIST. Sin embargo, surge la pregunta: <b>¿Cuán robusto es realmente nuestro modelo?</b> O en otras palabras, ¿cómo se vería afectado el rendimiento de nuestro modelo ante posibles perturbaciones en los datos de entrada?\n",
        "<p align=\"justify\">Imaginemos, por ejemplo, que las imágenes que ingresamos en el modelo provienen de fotografías tomadas de dígitos escritos a mano por nosotros. Es probable que algunas de estas imágenes no estén centradas <i>(ej. a)</i>, no tengan una alineación adecuada <i>(ej. b)</i> o presenten problemas de calidad <i>(ej. c)</i>.\n",
        "<p align=\"justify\"><b>¿Podrían estas perturbaciones afectar el rendimiento de nuestro modelo?</b> ¡Vamos a averiguarlo!\n",
        "<p align=\"justify\">Lo primero que haremos será cargar nuevamente el conjunto de datos MNIST y diseñar una <i>Red Neuronal Multicapa</i> que aprenda a clasificar nuestras imágenes de números. (Realizar la Actividad 7 previamente a esto resulta más entretenido... 👀)\n",
        "\n",
        "\n",
        "<centered> ![texto alternativo](https://i.imgur.com/qs86wF1.jpg) </centered>"
      ]
    },
    {
      "cell_type": "code",
      "metadata": {
        "id": "jTBHdhqwiOHT"
      },
      "source": [
        "from tensorflow.keras.datasets import mnist\n",
        "from tensorflow.keras.utils    import to_categorical\n",
        "from tensorflow.keras.layers   import *\n",
        "from tensorflow.keras          import Sequential\n",
        "\n",
        "# Cargamos el dataset MNIST desde la librería de Keras.\n",
        "(X_train, Y_train), (X_test, Y_test) = mnist.load_data()\n",
        "\n",
        "# Reescalamos y preprocesamos las variables.\n",
        "X_train = X_train / 255\n",
        "X_test  = X_test  / 255\n",
        "Y_train = to_categorical(Y_train)\n",
        "Y_test  = to_categorical(Y_test)"
      ],
      "execution_count": null,
      "outputs": []
    },
    {
      "cell_type": "markdown",
      "metadata": {
        "id": "B6K0bxKbcg78"
      },
      "source": [
        "<p align=\"justify\">Con el objetivo de aumentar nuestros datos y evaluar la robustez de nuestro modelo entrenado, utilizaremos algunas herramientas que Keras nos ofrece. En particular, trabajaremos con <i>ImageDataGenerator()</i>, un método de Keras que nos permite cargar nuestros datos <i>(o más bien, generarlos)</i> con las transformaciones que decidamos aplicar, como traslaciones, rotaciones, entre otros.\n",
        "<p align=\"justify\">El funcionamiento de <i>ImageDataGenerator()</i> consiste en crear un objeto donde configuraremos las transformaciones que queremos aplicar. Posteriormente, especificaremos la fuente de los datos utilizando el método <i>.flow(...)</i>.\n",
        "<p align=\"justify\">Para comprobar la robustez de nuestro modelo frente a perturbaciones, crearemos un generador que no modifique nuestras imágenes para los datos de entrenamiento, y lo utilizaremos para entrenar nuestro modelo con datos normales. Luego, generaremos un segundo generador que sí aplique perturbaciones en las imágenes, denominado generador de prueba, y lo emplearemos para evaluar el desempeño del modelo al introducir datos con perturbaciones.\n"
      ]
    },
    {
      "cell_type": "code",
      "metadata": {
        "id": "z_TpxxIp4FL5",
        "colab": {
          "base_uri": "https://localhost:8080/",
          "height": 490
        },
        "outputId": "0c88eae0-57fe-4be1-fc3e-eb49d9d2eff2"
      },
      "source": [
        "import numpy as np\n",
        "import matplotlib.pyplot as plt\n",
        "from tensorflow.keras.preprocessing.image import ImageDataGenerator\n",
        "\n",
        "# Creamos el generador de imágenes de entrenamiento. En este caso, este generador\n",
        "# no va a introducir ninguna perturbación en los datos.\n",
        "train_idg = ImageDataGenerator()\n",
        "\n",
        "# Cargamos las imágenes a nuestro preprocesador. Hay que tener en cuenta\n",
        "# que el generador requiere que nuestras imágenes tengan 4 dimensiones que\n",
        "# cumplan lo siguiente: [n_imágenes, altura, ancho, nº_canales_color].\n",
        "# Por eso se añade una nueva dimensión con np.newaxis a nuestros datos.\n",
        "gen_train_images = train_idg.flow(X_train[..., np.newaxis], Y_train)\n",
        "\n",
        "# Creamos el generador de imágenes de evaluación. Este generador sí va a\n",
        "# introducir perturbaciones de 25% traslación horizontales y verticales.\n",
        "test_idg = ImageDataGenerator(width_shift_range=0.25, height_shift_range=0.25)\n",
        "\n",
        "# Cargamos las imágenes a nuestro preprocesador.\n",
        "gen_test_images = test_idg.flow(X_test[..., np.newaxis], Y_test)\n",
        "\n",
        "\n",
        "# Una vez tenemos los generadores creados, podemos obtener imágenes al igual que\n",
        "# hacíamos con los generadores de Python (de hecho, lo son) con el método next(...)\n",
        "# Cada vez que lo llamemos el método nos devolverá un lote de 32 imágenes como\n",
        "# variable de entrada y sus etiquetas de salida.\n",
        "batchX, batchY = next(gen_test_images)\n",
        "\n",
        "# Comprobamos que las dimensiones son las esperadas.\n",
        "print(batchX.shape, batchY.shape, '\\n')\n",
        "\n",
        "# Visualizamos el contenido de alguna de las imágenes del lote. Podrás ver que\n",
        "# cada vez que ejecutes la celda, esta imagen cambiará. Y es que el generador\n",
        "# se va a ocupar de que la obtención de imágenes desde nuestros datos sea\n",
        "# aleatoria. Como extraemos imágenes del generador de test, podrás comprobar\n",
        "# también que estas imágenes ya se presentan con la traslación de 25% aleatoria.\n",
        "\n",
        "plt.matshow(batchX[0, :, :, 0])\n",
        "plt.title('Label:' + str(np.argmax(batchY[0])))\n",
        "plt.axis(False)\n",
        "plt.show()"
      ],
      "execution_count": null,
      "outputs": [
        {
          "output_type": "stream",
          "name": "stdout",
          "text": [
            "(32, 28, 28, 1) (32, 10) \n",
            "\n"
          ]
        },
        {
          "output_type": "display_data",
          "data": {
            "text/plain": [
              "<Figure size 480x480 with 1 Axes>"
            ],
            "image/png": "[encoded data removed]"
          },
          "metadata": {}
        }
      ]
    },
    {
      "cell_type": "markdown",
      "metadata": {
        "id": "fYvDzhmJk1wk"
      },
      "source": [
        "<p align=\"justify\">Ahora que ya tenemos creados nuestros generadores de datos de entrenamiento y prueba, con las perturbaciones correspondientes, vamos a generar ahora nuestra <b>Red Neuronal Multicapa</b>. Fíjate cómo podemos integrar a nuestros generadores de datos dentro del método <i>.fit(...)</i>, para que ahora el entrenamiento de la red pueda tomar los datos directamente desde ahí. Pasaremos el generador de entrenamiento como datos de entrenamiento, y al generador de prueba, con sus perturbaciones, como datos de prueba."
      ]
    },
    {
      "cell_type": "code",
      "metadata": {
        "id": "LrK50yuylS-n",
        "colab": {
          "base_uri": "https://localhost:8080/"
        },
        "outputId": "e5e8cc02-637d-44c0-b5dc-868e14c68685"
      },
      "source": [
        "from tensorflow.keras.layers import *\n",
        "from tensorflow.keras import Sequential\n",
        "\n",
        "# Planteamos la arquitectura de la red.\n",
        "model = Sequential()\n",
        "\n",
        "model.add(Flatten())\n",
        "model.add(Dense(256, activation='relu'))\n",
        "model.add(Dense(128, activation='relu'))\n",
        "model.add(Dense(64,  activation='relu'))\n",
        "model.add(Dense(32,  activation='relu'))\n",
        "model.add(Dense(10,  activation='softmax'))\n",
        "\n",
        "# Compilamos a la red neuronal.\n",
        "model.compile(loss='categorical_crossentropy', metrics='accuracy', optimizer='adam')\n",
        "\n",
        "# Entrenamos a la red neuronal usando a nuestros generadores como suministradores\n",
        "# de datos de entrenamiento y prueba.\n",
        "model.fit(gen_train_images, validation_data=gen_test_images, epochs=10)"
      ],
      "execution_count": null,
      "outputs": [
        {
          "output_type": "stream",
          "name": "stdout",
          "text": [
            "Epoch 1/10\n",
            "1875/1875 [==============================] - 14s 6ms/step - loss: 0.2321 - accuracy: 0.9304 - val_loss: 4.7340 - val_accuracy: 0.2201\n",
            "Epoch 2/10\n",
            "1875/1875 [==============================] - 12s 6ms/step - loss: 0.1008 - accuracy: 0.9694 - val_loss: 5.0728 - val_accuracy: 0.2413\n",
            "Epoch 3/10\n",
            "1875/1875 [==============================] - 12s 7ms/step - loss: 0.0708 - accuracy: 0.9781 - val_loss: 5.8066 - val_accuracy: 0.2620\n",
            "Epoch 4/10\n",
            "1875/1875 [==============================] - 12s 6ms/step - loss: 0.0568 - accuracy: 0.9830 - val_loss: 5.7481 - val_accuracy: 0.2529\n",
            "Epoch 5/10\n",
            "1875/1875 [==============================] - 12s 6ms/step - loss: 0.0475 - accuracy: 0.9851 - val_loss: 6.2482 - val_accuracy: 0.2644\n",
            "Epoch 6/10\n",
            "1875/1875 [==============================] - 13s 7ms/step - loss: 0.0383 - accuracy: 0.9880 - val_loss: 6.7258 - val_accuracy: 0.2762\n",
            "Epoch 7/10\n",
            "1875/1875 [==============================] - 12s 6ms/step - loss: 0.0351 - accuracy: 0.9888 - val_loss: 7.9671 - val_accuracy: 0.2780\n",
            "Epoch 8/10\n",
            "1875/1875 [==============================] - 12s 6ms/step - loss: 0.0283 - accuracy: 0.9913 - val_loss: 7.9212 - val_accuracy: 0.2718\n",
            "Epoch 9/10\n",
            "1875/1875 [==============================] - 12s 6ms/step - loss: 0.0263 - accuracy: 0.9920 - val_loss: 7.6250 - val_accuracy: 0.2805\n",
            "Epoch 10/10\n",
            "1875/1875 [==============================] - 12s 6ms/step - loss: 0.0237 - accuracy: 0.9930 - val_loss: 8.8307 - val_accuracy: 0.2742\n"
          ]
        },
        {
          "output_type": "execute_result",
          "data": {
            "text/plain": [
              "<keras.src.callbacks.History at 0x7fd510d43b50>"
            ]
          },
          "metadata": {},
          "execution_count": 9
        }
      ]
    },
    {
      "cell_type": "markdown",
      "metadata": {
        "id": "GlAFGFZqnNj2"
      },
      "source": [
        "<p align=\"justify\">Fíjate cómo la calidad de los resultados de prueba es muchísimo peor que la obtenida con los de entrenamiento. La tasa de acierto para los nuevos datos <b>no supera ni el 30%</b>, cuando los datos de entrenamiento están cerca de lograr <b>el 100%</b>.\n",
        "\n",
        "<p align=\"justify\">Parece por tanto que el modelo cuando recibe imágenes que tienen algo de traslación es incapaz de clasificar correctamente a los números. Decimos por tanto que el modelo es poco robusto ante perturbaciones de movimiento. <i>¿Cómo podríamos solucionar esto?</i> Pues una primera propuesta sería volver a entrenar a la <b>Red Neuronal Multicapa</b>, pero con datos que también tengan esas perturbaciones. Es decir, entrenar a la red con <b>datos aumentados.</b>\n",
        "\n",
        "<p align=\"justify\">Para hacer esto, vamos a crear un nuevo generador de datos de entrenamiento que sí contenga también perturbaciones de traslación."
      ]
    },
    {
      "cell_type": "code",
      "metadata": {
        "id": "di-5gMzVoCYL"
      },
      "source": [
        "# Creamos el generador de imágenes de entrenamiento.\n",
        "train_idg = ImageDataGenerator(width_shift_range=0.25, height_shift_range=0.25)\n",
        "\n",
        "# Cargamos las imágenes a nuestro preprocesador.\n",
        "gen_train_images = train_idg.flow(X_train[..., np.newaxis], Y_train)\n",
        "\n",
        "# Creamos el generador de imágenes de evaluación.\n",
        "test_idg = ImageDataGenerator(width_shift_range=0.25, height_shift_range=0.25)\n",
        "\n",
        "# Cargamos las imágenes a nuestro preprocesador.\n",
        "gen_test_images = test_idg.flow(X_test[..., np.newaxis], Y_test)"
      ],
      "execution_count": null,
      "outputs": []
    },
    {
      "cell_type": "code",
      "metadata": {
        "colab": {
          "base_uri": "https://localhost:8080/"
        },
        "id": "i6vWAl83oSde",
        "outputId": "fd73fdd4-a15e-46cd-ed2d-793fca579911"
      },
      "source": [
        "from tensorflow.keras.layers import *\n",
        "from tensorflow.keras import Sequential\n",
        "\n",
        "# Planteamos la arquitectura de la red.\n",
        "model = Sequential()\n",
        "\n",
        "model.add(Flatten())\n",
        "model.add(Dense(256, activation='relu'))\n",
        "model.add(Dense(128, activation='relu'))\n",
        "model.add(Dense(64,  activation='relu'))\n",
        "model.add(Dense(32,  activation='relu'))\n",
        "model.add(Dense(10,  activation='softmax'))\n",
        "\n",
        "# Compilamos a la red neuronal.\n",
        "model.compile(loss='categorical_crossentropy', metrics='accuracy', optimizer='adam')\n",
        "\n",
        "# Entrenamos a la red neuronal usando los generadores de datos.\n",
        "model.fit(gen_train_images, validation_data=gen_test_images, epochs=10)"
      ],
      "execution_count": null,
      "outputs": [
        {
          "output_type": "stream",
          "name": "stdout",
          "text": [
            "Epoch 1/10\n",
            "1875/1875 [==============================] - 28s 14ms/step - loss: 0.7384 - accuracy: 0.7544 - val_loss: 0.3816 - val_accuracy: 0.8812\n",
            "Epoch 2/10\n",
            "1875/1875 [==============================] - 26s 14ms/step - loss: 0.3439 - accuracy: 0.8923 - val_loss: 0.2803 - val_accuracy: 0.9125\n",
            "Epoch 3/10\n",
            "1875/1875 [==============================] - 26s 14ms/step - loss: 0.2805 - accuracy: 0.9119 - val_loss: 0.2372 - val_accuracy: 0.9285\n",
            "Epoch 4/10\n",
            "1875/1875 [==============================] - 26s 14ms/step - loss: 0.2512 - accuracy: 0.9208 - val_loss: 0.2378 - val_accuracy: 0.9254\n",
            "Epoch 5/10\n",
            "1875/1875 [==============================] - 27s 14ms/step - loss: 0.2275 - accuracy: 0.9301 - val_loss: 0.2011 - val_accuracy: 0.9366\n",
            "Epoch 6/10\n",
            "1875/1875 [==============================] - 26s 14ms/step - loss: 0.2187 - accuracy: 0.9319 - val_loss: 0.1925 - val_accuracy: 0.9422\n",
            "Epoch 7/10\n",
            "1875/1875 [==============================] - 26s 14ms/step - loss: 0.2016 - accuracy: 0.9376 - val_loss: 0.1812 - val_accuracy: 0.9440\n",
            "Epoch 8/10\n",
            "1875/1875 [==============================] - 26s 14ms/step - loss: 0.1899 - accuracy: 0.9415 - val_loss: 0.1848 - val_accuracy: 0.9440\n",
            "Epoch 9/10\n",
            "1875/1875 [==============================] - 26s 14ms/step - loss: 0.1816 - accuracy: 0.9431 - val_loss: 0.1732 - val_accuracy: 0.9462\n",
            "Epoch 10/10\n",
            "1875/1875 [==============================] - 26s 14ms/step - loss: 0.1775 - accuracy: 0.9455 - val_loss: 0.1893 - val_accuracy: 0.9433\n"
          ]
        },
        {
          "output_type": "execute_result",
          "data": {
            "text/plain": [
              "<keras.src.callbacks.History at 0x7fd46c1c9900>"
            ]
          },
          "metadata": {},
          "execution_count": 12
        }
      ]
    },
    {
      "cell_type": "markdown",
      "metadata": {
        "id": "nYFWwyF8Wo5o"
      },
      "source": [
        "## 👁‍🗨 **Redes Neuronales Convolucionales**\n",
        "\n",
        "<p align=\"justify\">Como se puede ver, ahora la tasa de acierto tanto de entrenamiento como de prueba evolucionan a la par, superando el 90% de la tasa de acierto. Parece que la estrategia de entrenar al modelo con datos aumentados causa buenos efectos.\n",
        "\n",
        "<p align=\"justify\">Sin embargo, como hemos visto en el bloque teórico, a la hora de analizar imágenes tenemos mejores alternativas. Si trabajamos con imágenes, una alternativa más eficiente en el número de parámetros y más robusta en la comprensión de imágenes, son las Redes Neuronales Convolucionales.\n",
        "\n",
        "<p align=\"justify\">Una Red Neuronal Convolucional se compone de dos parte principales:\n",
        "\n",
        "- <p align=\"justify\"><b>El extractor de patrones</b>, la parte de la red conformada por las llamadas capas convolucionales (Conv2D) encargadas de escanear las imágenes con una serie de filtros. Estos filtros están compuestos por los parámetros que vamos a optimizar, y es a través de este proceso, que estos filtros aprenden los patrones necesarios a reconocer para resolver la tarea. Cada filtro aprenderá un patrón (e.g. un ojo, una esquina, una textura, una cara, etc).\n",
        "\n",
        "- <p align=\"justify\"><b>El clasificador de patrones</b>, una vez la parte anterior de la red ha aprendido a extraer todos los patrones de nuestra imagen, ahora esta segunda parte se compone de una Red Neuronal Multicapa típica, que tomará como input los patrones reconocidos y aprenderá a utilizar esta información para resolver la tarea para la que la estamos entrenando.\n",
        "\n",
        "\n",
        "Vamos a ver cómo podemos implementar una <b>Red Neuronal Convolucional.</b> 👇"
      ]
    },
    {
      "cell_type": "code",
      "metadata": {
        "id": "TAsnYEJaILlb",
        "colab": {
          "base_uri": "https://localhost:8080/"
        },
        "outputId": "3c7cfbff-56e4-4a7c-9fd4-bd96c3b28999"
      },
      "source": [
        "from tensorflow.keras import Sequential\n",
        "from tensorflow.keras.layers import *\n",
        "from tensorflow.keras.optimizers import Adam\n",
        "\n",
        "# Empezamos a construir a nuestro modelo igual que antes, utilizando el método\n",
        "# Sequential(), puesto que vamos a volver a agregar capas que serán ejecutadas\n",
        "# de manera secuencial, donde el output de una será el input de la siguiente.\n",
        "model = Sequential()\n",
        "\n",
        "# -- Extractor de patrones -- Esta parte de la red está conformado por capas\n",
        "# convolucionales, que por su nombre ya se intuye que son las más importantes\n",
        "# de esta arquitectura. Las capas convolucionales se componen de filtros, cuya\n",
        "# cantidad y tamaño podemos definir con filters= y kernel_size=. En este caso\n",
        "# fíjate cómo vamos incrementando el número de filtros entre más capas añadimos.\n",
        "\n",
        "# Esto tiene sentido puesto que entre más profunda es nuestra red, más patrones\n",
        "# avanzados podemos componer con los patrones anteriores, y por eso tiene sentido\n",
        "# tener más filtros. El tamaño de estos filtros en este caso son de 3x3 píxeles,\n",
        "# y el tamaño de esto dependerá de cuán grande sean nuestras imágenes de entrada.\n",
        "\n",
        "# Es habitual encontrar filtros de 1x1, 3x3, 5x5, 7x7 u 11x11. El atributo strides=2\n",
        "# lo que indica es que cada filtro irá moviéndose dando saltos de 2 píxeles por la\n",
        "# imagen, lo cual produce que la resolución de alto y ancho se reduzca a la mitad\n",
        "# tras el paso por cada capa. Reducir así el tamaño de las imágenes es recomendable.\n",
        "\n",
        "model.add(Conv2D(filters=10, kernel_size=3, strides=2, padding=\"same\", activation='relu'))\n",
        "model.add(Conv2D(filters=20, kernel_size=3, strides=2, padding=\"same\", activation='relu'))\n",
        "model.add(Conv2D(filters=30, kernel_size=3, strides=2, padding=\"same\", activation='relu'))\n",
        "\n",
        "# -- Clasificador de patrones -- Una vez las imágenes han pasado por las capas\n",
        "# convolucionales, lo que tendremos será el resultado de haber detectado los patrones\n",
        "# contenidos en ellas. Ahora, podemos añadir capas Densas, para crear una sencilla\n",
        "# Red Neuronal Multicapa, que tome estos patrones y los procese similar a cómo\n",
        "# hemos trabajado con datos tabulares y redes neuronales en el bloque anterior.\n",
        "\n",
        "# Para ello, tendremos que convertir las imágenes resultantes de la última capa\n",
        "# Conv2D a vectores unidimensionales, que como sabemos, son los que las capas\n",
        "# densas admiten. Para ello, añadiendo una capa Flatten() podemos conseguir vectorizar\n",
        "# las imágenes. Después, ya podemos añadir una o dos capas Densas y finalmente\n",
        "# la capa de salida configurada correctamente.\n",
        "\n",
        "model.add(Flatten())\n",
        "model.add(Dense(100, activation='relu'))\n",
        "model.add(Dense(10,  activation='softmax'))\n",
        "\n",
        "# Una vez la red está diseñada, compilamos el modelo igual que antes.\n",
        "model.compile(optimizer=Adam(learning_rate=0.001), loss='categorical_crossentropy', metrics='acc')\n",
        "\n",
        "# Y lo entrenamos suministrando nuestros datos. En este caso usando los generadores.\n",
        "model.fit(gen_train_images, validation_data=gen_test_images, epochs=10)"
      ],
      "execution_count": null,
      "outputs": [
        {
          "output_type": "stream",
          "name": "stdout",
          "text": [
            "Epoch 1/10\n",
            "1875/1875 [==============================] - 29s 14ms/step - loss: 0.5440 - acc: 0.8253 - val_loss: 0.2307 - val_acc: 0.9287\n",
            "Epoch 2/10\n",
            "1875/1875 [==============================] - 27s 15ms/step - loss: 0.2210 - acc: 0.9332 - val_loss: 0.1730 - val_acc: 0.9480\n",
            "Epoch 3/10\n",
            "1875/1875 [==============================] - 29s 15ms/step - loss: 0.1742 - acc: 0.9473 - val_loss: 0.1300 - val_acc: 0.9574\n",
            "Epoch 4/10\n",
            "1875/1875 [==============================] - 26s 14ms/step - loss: 0.1482 - acc: 0.9546 - val_loss: 0.1153 - val_acc: 0.9628\n",
            "Epoch 5/10\n",
            "1875/1875 [==============================] - 26s 14ms/step - loss: 0.1322 - acc: 0.9595 - val_loss: 0.1065 - val_acc: 0.9673\n",
            "Epoch 6/10\n",
            "1875/1875 [==============================] - 26s 14ms/step - loss: 0.1218 - acc: 0.9617 - val_loss: 0.0975 - val_acc: 0.9707\n",
            "Epoch 7/10\n",
            "1875/1875 [==============================] - 26s 14ms/step - loss: 0.1098 - acc: 0.9660 - val_loss: 0.0882 - val_acc: 0.9719\n",
            "Epoch 8/10\n",
            "1875/1875 [==============================] - 27s 14ms/step - loss: 0.1031 - acc: 0.9685 - val_loss: 0.0803 - val_acc: 0.9735\n",
            "Epoch 9/10\n",
            "1875/1875 [==============================] - 26s 14ms/step - loss: 0.0980 - acc: 0.9695 - val_loss: 0.0790 - val_acc: 0.9749\n",
            "Epoch 10/10\n",
            "1875/1875 [==============================] - 27s 15ms/step - loss: 0.0918 - acc: 0.9718 - val_loss: 0.0806 - val_acc: 0.9753\n"
          ]
        },
        {
          "output_type": "execute_result",
          "data": {
            "text/plain": [
              "<keras.src.callbacks.History at 0x7fd4505b6560>"
            ]
          },
          "metadata": {},
          "execution_count": 13
        }
      ]
    },
    {
      "cell_type": "markdown",
      "metadata": {
        "id": "IyWxbmI2ybCu"
      },
      "source": [
        "<p align=\"justify\">Al entrenar el modelo vemos que su rendimiento supera a lo que hemos conseguido previamente con la Red Neuronal Multicapa con aumentación de datos. De hecho, parece que la red podría seguir mejorando su rendimiento <i>(esto se deduce al ver cómo el <b>val_acc</b> sigue aumentando en las últimas Epochs)</i>.\n",
        "<p align=\"justify\">Podemos entrenar a la red unas <b>10 epochs más</b> volviendo a llamar al método <i>.fit(...)</i>"
      ]
    },
    {
      "cell_type": "code",
      "metadata": {
        "colab": {
          "base_uri": "https://localhost:8080/"
        },
        "id": "TpLEJVhLd3Xv",
        "outputId": "b105c546-bce4-4d4f-b183-3f1362547d85"
      },
      "source": [
        "model.fit(gen_train_images, validation_data=gen_test_images, epochs=10)"
      ],
      "execution_count": null,
      "outputs": [
        {
          "output_type": "stream",
          "name": "stdout",
          "text": [
            "Epoch 1/10\n",
            "1875/1875 [==============================] - 26s 14ms/step - loss: 0.0854 - acc: 0.9732 - val_loss: 0.0738 - val_acc: 0.9769\n",
            "Epoch 2/10\n",
            "1875/1875 [==============================] - 28s 15ms/step - loss: 0.0806 - acc: 0.9747 - val_loss: 0.0767 - val_acc: 0.9751\n",
            "Epoch 3/10\n",
            "1875/1875 [==============================] - 26s 14ms/step - loss: 0.0794 - acc: 0.9754 - val_loss: 0.0664 - val_acc: 0.9779\n",
            "Epoch 4/10\n",
            "1875/1875 [==============================] - 26s 14ms/step - loss: 0.0789 - acc: 0.9758 - val_loss: 0.0742 - val_acc: 0.9768\n",
            "Epoch 5/10\n",
            "1875/1875 [==============================] - 26s 14ms/step - loss: 0.0731 - acc: 0.9775 - val_loss: 0.0627 - val_acc: 0.9797\n",
            "Epoch 6/10\n",
            "1875/1875 [==============================] - 29s 16ms/step - loss: 0.0721 - acc: 0.9776 - val_loss: 0.0601 - val_acc: 0.9812\n",
            "Epoch 7/10\n",
            "1875/1875 [==============================] - 26s 14ms/step - loss: 0.0697 - acc: 0.9790 - val_loss: 0.0586 - val_acc: 0.9808\n",
            "Epoch 8/10\n",
            "1875/1875 [==============================] - 26s 14ms/step - loss: 0.0664 - acc: 0.9798 - val_loss: 0.0586 - val_acc: 0.9827\n",
            "Epoch 9/10\n",
            "1875/1875 [==============================] - 26s 14ms/step - loss: 0.0674 - acc: 0.9788 - val_loss: 0.0508 - val_acc: 0.9841\n",
            "Epoch 10/10\n",
            "1875/1875 [==============================] - 26s 14ms/step - loss: 0.0631 - acc: 0.9809 - val_loss: 0.0620 - val_acc: 0.9805\n"
          ]
        },
        {
          "output_type": "execute_result",
          "data": {
            "text/plain": [
              "<keras.src.callbacks.History at 0x7fd456fabb20>"
            ]
          },
          "metadata": {},
          "execution_count": 14
        }
      ]
    },
    {
      "cell_type": "markdown",
      "metadata": {
        "id": "1eYviGPnX-CT"
      },
      "source": [
        "# **Actividad Evaluable 8.** Otras Arquitecturas.\n",
        "\n",
        "<p align=\"justify\">Vamos a poner en práctica todas las funcionalidades de Keras vistas en este bloque. Para ello, vamos a trabajar con un dataset similar al <b>MNIST</b> de número, pero en su alternativa de prendas de ropa: el <b>Fashion MNIST</b>. Este dataset, a diferencia del de números, está compuesto de imágenes de distintas prendas de ropa (<i>10 en total</i>) de 28x28 píxeles.\n",
        "\n",
        "---\n",
        "\n",
        "**Tu tarea:** Completa las siguientes tareas de análisis aplicadas sobre el dataset <b>Fashion MNIST</b>:\n",
        "\n",
        "1. <p align=\"justify\">Crea dos generadores de imágenes (<i>ImageDataGenerators(...)</i>) que añadan únicamente perturbaciones en los datos de entrenamiento, no en los de validación. Puedes elegir qué perturbaciones añadir consultado en la documentación las distintas transformaciones que hay (<i>por ejemplo, puedes probar con Traslación y Rotación</i>). Una vez creado los generadores, visualiza una imagen de cada uno de ellos.\n",
        "\n",
        "2. <p align=\"justify\">Diseña un modelo con Keras que sea capaz de clasificar a nuestras imágenes. Aquí puedes optar por diseñar una <b>Red Neuronal Multicapa</b> típica, o algo más avanzado como una <b>Red Neuronal Convolucional</b> (<i>puedes tomar el código de los ejemplos anteriores</i>). En cualquier caso, deberás de añadir un callback de <i>EarlyStopping</i> que monitorice la variable <i>'val_loss'</i> con una paciencia de 3 steps. Lo más probable es que este <i>EarlyStopping</i> to llegue a saltar.\n",
        "\n",
        "4. <p align=\"justify\">Finalmente, tras entrenar a tu modelo, guarda a tu modelo y vuélvelo a cargar en una variable diferente desde la que deberás de comprobar que aún está entrenado haciendo una predicción o evaluándolo con el método <i>.evaluate()</i>"
      ]
    },
    {
      "cell_type": "code",
      "metadata": {
        "colab": {
          "base_uri": "https://localhost:8080/",
          "height": 706
        },
        "id": "pBeEdDm4lOfr",
        "outputId": "17339853-82c1-4ace-9e7d-7abfa7ee6e98"
      },
      "source": [
        "from tensorflow.keras.datasets import fashion_mnist\n",
        "\n",
        "\n",
        "# Cargamos el dataset MNIST desde la librería de Keras.\n",
        "(X_train, Y_train), (X_test, Y_test) = fashion_mnist.load_data()\n",
        "\n",
        "# Reescalamos y preprocesamos las variables.\n",
        "X_train = X_train / 255\n",
        "X_test  = X_test  / 255\n",
        "Y_train = to_categorical(Y_train)\n",
        "Y_test  = to_categorical(Y_test)\n",
        "\n",
        "# Visualizamos alguna de las prendas del dataset.\n",
        "fig, axs = plt.subplots(1, 8, figsize=(14, 2))\n",
        "for i in range(len(axs)):\n",
        "  axs[i].matshow(X_train[i])                     # Visualiza las imágenes.\n",
        "  axs[i].axis('off')                             # Oculta los ejes de la gráfica.\n",
        "\n",
        "\n",
        "# COMIENZA AQUÍ TU CÓDIGO #\n",
        "\n",
        "# Por si no se corren los anteriores imports.\n",
        "from tensorflow.keras.preprocessing.image import ImageDataGenerator\n",
        "from tensorflow.keras.models import Sequential, load_model\n",
        "from tensorflow.keras.layers import Dense, Flatten, Conv2D, MaxPooling2D\n",
        "from tensorflow.keras.callbacks import EarlyStopping\n",
        "import matplotlib.pyplot as plt\n",
        "\n",
        "# COMIENZA AQUÍ TU CÓDIGO #\n",
        "\n",
        "# Crear generadores de imágenes con perturbaciones en los datos de entrenamiento\n",
        "train_datagen = ImageDataGenerator(\n",
        "    rotation_range=10,  # Rotación aleatoria de hasta 10 grados\n",
        "    width_shift_range=0.1,  # Traslación horizontal aleatoria\n",
        "    height_shift_range=0.1  # Traslación vertical aleatoria\n",
        ")\n",
        "\n",
        "test_datagen = ImageDataGenerator()\n",
        "\n",
        "# Redimensionar datos para que encajen en el generador de imágenes\n",
        "X_train = X_train.reshape(-1, 28, 28, 1)\n",
        "X_test = X_test.reshape(-1, 28, 28, 1)\n",
        "\n",
        "# Visualizar una imagen del generador de entrenamiento\n",
        "train_generator = train_datagen.flow(X_train, Y_train, batch_size=1)\n",
        "test_generator = test_datagen.flow(X_test, Y_test, batch_size=1)\n",
        "\n",
        "# Visualizar una imagen de entrenamiento con perturbaciones\n",
        "plt.figure(figsize=(8, 2))\n",
        "for i in range(8):\n",
        "    plt.subplot(1, 8, i + 1)\n",
        "    batch = next(train_generator)\n",
        "    plt.imshow(batch[0][0].reshape(28, 28), cmap='gray')\n",
        "    plt.axis('off')\n",
        "plt.show()\n",
        "\n",
        "# Visualizar una imagen de validación sin perturbaciones\n",
        "plt.figure(figsize=(8, 2))\n",
        "for i in range(8):\n",
        "    plt.subplot(1, 8, i + 1)\n",
        "    plt.imshow(X_test[i].reshape(28, 28), cmap='gray')\n",
        "    plt.axis('off')\n",
        "plt.show()\n",
        "\n",
        "# Diseño del modelo con Keras (Red Neuronal Convolucional)\n",
        "model = Sequential([\n",
        "    Conv2D(32, kernel_size=(3, 3), activation='relu', input_shape=(28, 28, 1)),\n",
        "    MaxPooling2D(pool_size=(2, 2)),\n",
        "    Conv2D(64, kernel_size=(3, 3), activation='relu'),\n",
        "    MaxPooling2D(pool_size=(2, 2)),\n",
        "    Flatten(),\n",
        "    Dense(128, activation='relu'),\n",
        "    Dense(10, activation='softmax')\n",
        "])\n",
        "\n",
        "# Compilación del modelo\n",
        "model.compile(optimizer='adam', loss='categorical_crossentropy', metrics=['accuracy'])\n",
        "\n",
        "# Callback de EarlyStopping\n",
        "early_stopping = EarlyStopping(monitor='val_loss', patience=3, restore_best_weights=True)\n",
        "\n",
        "# Entrenamiento del modelo\n",
        "history = model.fit(\n",
        "    train_generator,\n",
        "    epochs=20,\n",
        "    validation_data=test_generator,\n",
        "    callbacks=[early_stopping]\n",
        ")\n",
        "\n",
        "# Evaluación del modelo\n",
        "test_loss, test_acc = model.evaluate(test_generator)\n",
        "print(f'Test accuracy: {test_acc:.4f}')\n",
        "\n",
        "# Guardar el modelo\n",
        "model.save('fashion_mnist_model.h5')\n",
        "\n",
        "# Cargar el modelo guardado\n",
        "loaded_model = load_model('fashion_mnist_model.h5')\n",
        "\n",
        "# Evaluar el modelo cargado\n",
        "loaded_test_loss, loaded_test_acc = loaded_model.evaluate(test_generator)\n",
        "print(f'Loaded model accuracy: {loaded_test_acc:.4f}')\n",
        "\n",
        "# Predicción con el modelo cargado (opcional)\n",
        "predictions = loaded_model.predict(X_test)\n",
        "print(f'Predicción de la primera imagen: {predictions[0]}')\n"
      ],
      "execution_count": null,
      "outputs": [
        {
          "output_type": "display_data",
          "data": {
            "text/plain": [
              "<Figure size 1400x200 with 8 Axes>"
            ],
            "image/png": "[encoded data removed]"
          },
          "metadata": {}
        },
        {
          "output_type": "display_data",
          "data": {
            "text/plain": [
              "<Figure size 800x200 with 8 Axes>"
            ],
            "image/png": "[encoded data removed]"
          },
          "metadata": {}
        },
        {
          "output_type": "display_data",
          "data": {
            "text/plain": [
              "<Figure size 800x200 with 8 Axes>"
            ],
            "image/png": "[encoded data removed]"
          },
          "metadata": {}
        },
        {
          "output_type": "stream",
          "name": "stdout",
          "text": [
            "Epoch 1/20\n",
            "60000/60000 [==============================] - 307s 5ms/step - loss: 0.5524 - accuracy: 0.7892 - val_loss: 0.4549 - val_accuracy: 0.8367\n",
            "Epoch 2/20\n",
            "60000/60000 [==============================] - 288s 5ms/step - loss: 0.4508 - accuracy: 0.8322 - val_loss: 0.4132 - val_accuracy: 0.8567\n",
            "Epoch 3/20\n",
            "60000/60000 [==============================] - 306s 5ms/step - loss: 0.4393 - accuracy: 0.8367 - val_loss: 0.3927 - val_accuracy: 0.8659\n",
            "Epoch 4/20\n",
            "60000/60000 [==============================] - 290s 5ms/step - loss: 0.4390 - accuracy: 0.8377 - val_loss: 0.4560 - val_accuracy: 0.8386\n",
            "Epoch 5/20\n",
            "60000/60000 [==============================] - 307s 5ms/step - loss: 0.4422 - accuracy: 0.8372 - val_loss: 0.3953 - val_accuracy: 0.8641\n",
            "Epoch 6/20\n",
            "60000/60000 [==============================] - 288s 5ms/step - loss: 0.4524 - accuracy: 0.8334 - val_loss: 0.5462 - val_accuracy: 0.8397\n",
            "10000/10000 [==============================] - 29s 3ms/step - loss: 0.3927 - accuracy: 0.8659\n",
            "Test accuracy: 0.8659\n"
          ]
        },
        {
          "output_type": "stream",
          "name": "stderr",
          "text": [
            "/usr/local/lib/python3.10/dist-packages/keras/src/engine/training.py:3103: UserWarning: You are saving your model as an HDF5 file via `model.save()`. This file format is considered legacy. We recommend using instead the native Keras format, e.g. `model.save('my_model.keras')`.\n",
            "  saving_api.save_model(\n"
          ]
        },
        {
          "output_type": "stream",
          "name": "stdout",
          "text": [
            "10000/10000 [==============================] - 29s 3ms/step - loss: 0.3927 - accuracy: 0.8659\n",
            "Loaded model accuracy: 0.8659\n",
            "313/313 [==============================] - 1s 3ms/step\n",
            "Predicción de la primera imagen: [2.5817076e-10 4.6084175e-10 1.1783819e-09 2.0207424e-11 2.7952623e-11\n",
            " 3.4897198e-04 9.3698311e-09 4.8357176e-04 2.8823797e-07 9.9916720e-01]\n"
          ]
        }
      ]
    }
  ]
}