{
  "nbformat": 4,
  "nbformat_minor": 0,
  "metadata": {
    "colab": {
      "provenance": [],
      "include_colab_link": true
    },
    "kernelspec": {
      "name": "python3",
      "display_name": "Python 3"
    },
    "language_info": {
      "name": "python"
    },
    "accelerator": "GPU"
  },
  "cells": [
    {
      "cell_type": "markdown",
      "metadata": {
        "id": "view-in-github",
        "colab_type": "text"
      },
      "source": [
        "<a href=\"https://colab.research.google.com/github/Gerundio98/Cedula.Desarrollo-de-Software-II/blob/main/Bloque_1_Introd_a_NLP_(Semana_EOI).ipynb\" target=\"_parent\"><img src=\"https://colab.research.google.com/assets/colab-badge.svg\" alt=\"Open In Colab\"/></a>"
      ]
    },
    {
      "cell_type": "markdown",
      "source": [
        "## **EOI - Introducción al NLP**\n",
        "### **Bloque 1 -** Spacy: *Words Embeddings*\n",
        "\n",
        "---\n",
        "*Consejos de uso de Google Colab:*\n",
        "\n",
        "*   Puedes consultar la documentación sobre una función escribiendo **?** justo después de una función: *Ejemplo: np.maximum?*\n",
        "*   Puedes ejecutar el contenido de una celda con el atajo de teclado **CTRL+ENTER**\n",
        "*   Utiliza **TAB** cada vez que quieras autocompletar una llamada a una función.\n",
        "*   Puedes ejecutar instrucciones de bash directamente desde el notebook usando **!** : *Ejemplo: !pip install tensorflow*"
      ],
      "metadata": {
        "id": "dv3UrLw4Sdi7"
      }
    },
    {
      "cell_type": "markdown",
      "source": [
        "### 🌟 **Documentación de SpaCy**: https://spacy.io/"
      ],
      "metadata": {
        "id": "LZ-ASNJMcU1r"
      }
    },
    {
      "cell_type": "markdown",
      "source": [
        "Primero, instalamos la librería actualizada de Spacy y descargamos los modelos que de lenguaje que vayamos a utilizar. En la documentación de Spacy podremos encontrar las instrucciones correctas según nuestras necesidades."
      ],
      "metadata": {
        "id": "yAKyO_O8SqOY"
      }
    },
    {
      "cell_type": "code",
      "source": [
        "!pip install -U spacy\n",
        "!python -m spacy download es_core_news_lg"
      ],
      "metadata": {
        "id": "7Ui5Kx6eV0rg",
        "colab": {
          "base_uri": "https://localhost:8080/"
        },
        "outputId": "e6d34b06-ee9e-449d-d0d4-b6f2167b22d1"
      },
      "execution_count": 1,
      "outputs": [
        {
          "output_type": "stream",
          "name": "stdout",
          "text": [
            "Requirement already satisfied: spacy in /usr/local/lib/python3.10/dist-packages (3.7.5)\n",
            "Requirement already satisfied: spacy-legacy<3.1.0,>=3.0.11 in /usr/local/lib/python3.10/dist-packages (from spacy) (3.0.12)\n",
            "Requirement already satisfied: spacy-loggers<2.0.0,>=1.0.0 in /usr/local/lib/python3.10/dist-packages (from spacy) (1.0.5)\n",
            "Requirement already satisfied: murmurhash<1.1.0,>=0.28.0 in /usr/local/lib/python3.10/dist-packages (from spacy) (1.0.10)\n",
            "Requirement already satisfied: cymem<2.1.0,>=2.0.2 in /usr/local/lib/python3.10/dist-packages (from spacy) (2.0.8)\n",
            "Requirement already satisfied: preshed<3.1.0,>=3.0.2 in /usr/local/lib/python3.10/dist-packages (from spacy) (3.0.9)\n",
            "Requirement already satisfied: thinc<8.3.0,>=8.2.2 in /usr/local/lib/python3.10/dist-packages (from spacy) (8.2.4)\n",
            "Requirement already satisfied: wasabi<1.2.0,>=0.9.1 in /usr/local/lib/python3.10/dist-packages (from spacy) (1.1.3)\n",
            "Requirement already satisfied: srsly<3.0.0,>=2.4.3 in /usr/local/lib/python3.10/dist-packages (from spacy) (2.4.8)\n",
            "Requirement already satisfied: catalogue<2.1.0,>=2.0.6 in /usr/local/lib/python3.10/dist-packages (from spacy) (2.0.10)\n",
            "Requirement already satisfied: weasel<0.5.0,>=0.1.0 in /usr/local/lib/python3.10/dist-packages (from spacy) (0.4.1)\n",
            "Requirement already satisfied: typer<1.0.0,>=0.3.0 in /usr/local/lib/python3.10/dist-packages (from spacy) (0.12.3)\n",
            "Requirement already satisfied: tqdm<5.0.0,>=4.38.0 in /usr/local/lib/python3.10/dist-packages (from spacy) (4.66.4)\n",
            "Requirement already satisfied: requests<3.0.0,>=2.13.0 in /usr/local/lib/python3.10/dist-packages (from spacy) (2.31.0)\n",
            "Requirement already satisfied: pydantic!=1.8,!=1.8.1,<3.0.0,>=1.7.4 in /usr/local/lib/python3.10/dist-packages (from spacy) (2.7.4)\n",
            "Requirement already satisfied: jinja2 in /usr/local/lib/python3.10/dist-packages (from spacy) (3.1.4)\n",
            "Requirement already satisfied: setuptools in /usr/local/lib/python3.10/dist-packages (from spacy) (67.7.2)\n",
            "Requirement already satisfied: packaging>=20.0 in /usr/local/lib/python3.10/dist-packages (from spacy) (24.1)\n",
            "Requirement already satisfied: langcodes<4.0.0,>=3.2.0 in /usr/local/lib/python3.10/dist-packages (from spacy) (3.4.0)\n",
            "Requirement already satisfied: numpy>=1.19.0 in /usr/local/lib/python3.10/dist-packages (from spacy) (1.25.2)\n",
            "Requirement already satisfied: language-data>=1.2 in /usr/local/lib/python3.10/dist-packages (from langcodes<4.0.0,>=3.2.0->spacy) (1.2.0)\n",
            "Requirement already satisfied: annotated-types>=0.4.0 in /usr/local/lib/python3.10/dist-packages (from pydantic!=1.8,!=1.8.1,<3.0.0,>=1.7.4->spacy) (0.7.0)\n",
            "Requirement already satisfied: pydantic-core==2.18.4 in /usr/local/lib/python3.10/dist-packages (from pydantic!=1.8,!=1.8.1,<3.0.0,>=1.7.4->spacy) (2.18.4)\n",
            "Requirement already satisfied: typing-extensions>=4.6.1 in /usr/local/lib/python3.10/dist-packages (from pydantic!=1.8,!=1.8.1,<3.0.0,>=1.7.4->spacy) (4.12.2)\n",
            "Requirement already satisfied: charset-normalizer<4,>=2 in /usr/local/lib/python3.10/dist-packages (from requests<3.0.0,>=2.13.0->spacy) (3.3.2)\n",
            "Requirement already satisfied: idna<4,>=2.5 in /usr/local/lib/python3.10/dist-packages (from requests<3.0.0,>=2.13.0->spacy) (3.7)\n",
            "Requirement already satisfied: urllib3<3,>=1.21.1 in /usr/local/lib/python3.10/dist-packages (from requests<3.0.0,>=2.13.0->spacy) (2.0.7)\n",
            "Requirement already satisfied: certifi>=2017.4.17 in /usr/local/lib/python3.10/dist-packages (from requests<3.0.0,>=2.13.0->spacy) (2024.6.2)\n",
            "Requirement already satisfied: blis<0.8.0,>=0.7.8 in /usr/local/lib/python3.10/dist-packages (from thinc<8.3.0,>=8.2.2->spacy) (0.7.11)\n",
            "Requirement already satisfied: confection<1.0.0,>=0.0.1 in /usr/local/lib/python3.10/dist-packages (from thinc<8.3.0,>=8.2.2->spacy) (0.1.5)\n",
            "Requirement already satisfied: click>=8.0.0 in /usr/local/lib/python3.10/dist-packages (from typer<1.0.0,>=0.3.0->spacy) (8.1.7)\n",
            "Requirement already satisfied: shellingham>=1.3.0 in /usr/local/lib/python3.10/dist-packages (from typer<1.0.0,>=0.3.0->spacy) (1.5.4)\n",
            "Requirement already satisfied: rich>=10.11.0 in /usr/local/lib/python3.10/dist-packages (from typer<1.0.0,>=0.3.0->spacy) (13.7.1)\n",
            "Requirement already satisfied: cloudpathlib<1.0.0,>=0.7.0 in /usr/local/lib/python3.10/dist-packages (from weasel<0.5.0,>=0.1.0->spacy) (0.18.1)\n",
            "Requirement already satisfied: smart-open<8.0.0,>=5.2.1 in /usr/local/lib/python3.10/dist-packages (from weasel<0.5.0,>=0.1.0->spacy) (7.0.4)\n",
            "Requirement already satisfied: MarkupSafe>=2.0 in /usr/local/lib/python3.10/dist-packages (from jinja2->spacy) (2.1.5)\n",
            "Requirement already satisfied: marisa-trie>=0.7.7 in /usr/local/lib/python3.10/dist-packages (from language-data>=1.2->langcodes<4.0.0,>=3.2.0->spacy) (1.2.0)\n",
            "Requirement already satisfied: markdown-it-py>=2.2.0 in /usr/local/lib/python3.10/dist-packages (from rich>=10.11.0->typer<1.0.0,>=0.3.0->spacy) (3.0.0)\n",
            "Requirement already satisfied: pygments<3.0.0,>=2.13.0 in /usr/local/lib/python3.10/dist-packages (from rich>=10.11.0->typer<1.0.0,>=0.3.0->spacy) (2.16.1)\n",
            "Requirement already satisfied: wrapt in /usr/local/lib/python3.10/dist-packages (from smart-open<8.0.0,>=5.2.1->weasel<0.5.0,>=0.1.0->spacy) (1.14.1)\n",
            "Requirement already satisfied: mdurl~=0.1 in /usr/local/lib/python3.10/dist-packages (from markdown-it-py>=2.2.0->rich>=10.11.0->typer<1.0.0,>=0.3.0->spacy) (0.1.2)\n",
            "Collecting es-core-news-lg==3.7.0\n",
            "  Downloading https://github.com/explosion/spacy-models/releases/download/es_core_news_lg-3.7.0/es_core_news_lg-3.7.0-py3-none-any.whl (568.0 MB)\n",
            "\u001b[2K     \u001b[90m━━━━━━━━━━━━━━━━━━━━━━━━━━━━━━━━━━━━━━━━\u001b[0m \u001b[32m568.0/568.0 MB\u001b[0m \u001b[31m1.6 MB/s\u001b[0m eta \u001b[36m0:00:00\u001b[0m\n",
            "\u001b[?25hRequirement already satisfied: spacy<3.8.0,>=3.7.0 in /usr/local/lib/python3.10/dist-packages (from es-core-news-lg==3.7.0) (3.7.5)\n",
            "Requirement already satisfied: spacy-legacy<3.1.0,>=3.0.11 in /usr/local/lib/python3.10/dist-packages (from spacy<3.8.0,>=3.7.0->es-core-news-lg==3.7.0) (3.0.12)\n",
            "Requirement already satisfied: spacy-loggers<2.0.0,>=1.0.0 in /usr/local/lib/python3.10/dist-packages (from spacy<3.8.0,>=3.7.0->es-core-news-lg==3.7.0) (1.0.5)\n",
            "Requirement already satisfied: murmurhash<1.1.0,>=0.28.0 in /usr/local/lib/python3.10/dist-packages (from spacy<3.8.0,>=3.7.0->es-core-news-lg==3.7.0) (1.0.10)\n",
            "Requirement already satisfied: cymem<2.1.0,>=2.0.2 in /usr/local/lib/python3.10/dist-packages (from spacy<3.8.0,>=3.7.0->es-core-news-lg==3.7.0) (2.0.8)\n",
            "Requirement already satisfied: preshed<3.1.0,>=3.0.2 in /usr/local/lib/python3.10/dist-packages (from spacy<3.8.0,>=3.7.0->es-core-news-lg==3.7.0) (3.0.9)\n",
            "Requirement already satisfied: thinc<8.3.0,>=8.2.2 in /usr/local/lib/python3.10/dist-packages (from spacy<3.8.0,>=3.7.0->es-core-news-lg==3.7.0) (8.2.4)\n",
            "Requirement already satisfied: wasabi<1.2.0,>=0.9.1 in /usr/local/lib/python3.10/dist-packages (from spacy<3.8.0,>=3.7.0->es-core-news-lg==3.7.0) (1.1.3)\n",
            "Requirement already satisfied: srsly<3.0.0,>=2.4.3 in /usr/local/lib/python3.10/dist-packages (from spacy<3.8.0,>=3.7.0->es-core-news-lg==3.7.0) (2.4.8)\n",
            "Requirement already satisfied: catalogue<2.1.0,>=2.0.6 in /usr/local/lib/python3.10/dist-packages (from spacy<3.8.0,>=3.7.0->es-core-news-lg==3.7.0) (2.0.10)\n",
            "Requirement already satisfied: weasel<0.5.0,>=0.1.0 in /usr/local/lib/python3.10/dist-packages (from spacy<3.8.0,>=3.7.0->es-core-news-lg==3.7.0) (0.4.1)\n",
            "Requirement already satisfied: typer<1.0.0,>=0.3.0 in /usr/local/lib/python3.10/dist-packages (from spacy<3.8.0,>=3.7.0->es-core-news-lg==3.7.0) (0.12.3)\n",
            "Requirement already satisfied: tqdm<5.0.0,>=4.38.0 in /usr/local/lib/python3.10/dist-packages (from spacy<3.8.0,>=3.7.0->es-core-news-lg==3.7.0) (4.66.4)\n",
            "Requirement already satisfied: requests<3.0.0,>=2.13.0 in /usr/local/lib/python3.10/dist-packages (from spacy<3.8.0,>=3.7.0->es-core-news-lg==3.7.0) (2.31.0)\n",
            "Requirement already satisfied: pydantic!=1.8,!=1.8.1,<3.0.0,>=1.7.4 in /usr/local/lib/python3.10/dist-packages (from spacy<3.8.0,>=3.7.0->es-core-news-lg==3.7.0) (2.7.4)\n",
            "Requirement already satisfied: jinja2 in /usr/local/lib/python3.10/dist-packages (from spacy<3.8.0,>=3.7.0->es-core-news-lg==3.7.0) (3.1.4)\n",
            "Requirement already satisfied: setuptools in /usr/local/lib/python3.10/dist-packages (from spacy<3.8.0,>=3.7.0->es-core-news-lg==3.7.0) (67.7.2)\n",
            "Requirement already satisfied: packaging>=20.0 in /usr/local/lib/python3.10/dist-packages (from spacy<3.8.0,>=3.7.0->es-core-news-lg==3.7.0) (24.1)\n",
            "Requirement already satisfied: langcodes<4.0.0,>=3.2.0 in /usr/local/lib/python3.10/dist-packages (from spacy<3.8.0,>=3.7.0->es-core-news-lg==3.7.0) (3.4.0)\n",
            "Requirement already satisfied: numpy>=1.19.0 in /usr/local/lib/python3.10/dist-packages (from spacy<3.8.0,>=3.7.0->es-core-news-lg==3.7.0) (1.25.2)\n",
            "Requirement already satisfied: language-data>=1.2 in /usr/local/lib/python3.10/dist-packages (from langcodes<4.0.0,>=3.2.0->spacy<3.8.0,>=3.7.0->es-core-news-lg==3.7.0) (1.2.0)\n",
            "Requirement already satisfied: annotated-types>=0.4.0 in /usr/local/lib/python3.10/dist-packages (from pydantic!=1.8,!=1.8.1,<3.0.0,>=1.7.4->spacy<3.8.0,>=3.7.0->es-core-news-lg==3.7.0) (0.7.0)\n",
            "Requirement already satisfied: pydantic-core==2.18.4 in /usr/local/lib/python3.10/dist-packages (from pydantic!=1.8,!=1.8.1,<3.0.0,>=1.7.4->spacy<3.8.0,>=3.7.0->es-core-news-lg==3.7.0) (2.18.4)\n",
            "Requirement already satisfied: typing-extensions>=4.6.1 in /usr/local/lib/python3.10/dist-packages (from pydantic!=1.8,!=1.8.1,<3.0.0,>=1.7.4->spacy<3.8.0,>=3.7.0->es-core-news-lg==3.7.0) (4.12.2)\n",
            "Requirement already satisfied: charset-normalizer<4,>=2 in /usr/local/lib/python3.10/dist-packages (from requests<3.0.0,>=2.13.0->spacy<3.8.0,>=3.7.0->es-core-news-lg==3.7.0) (3.3.2)\n",
            "Requirement already satisfied: idna<4,>=2.5 in /usr/local/lib/python3.10/dist-packages (from requests<3.0.0,>=2.13.0->spacy<3.8.0,>=3.7.0->es-core-news-lg==3.7.0) (3.7)\n",
            "Requirement already satisfied: urllib3<3,>=1.21.1 in /usr/local/lib/python3.10/dist-packages (from requests<3.0.0,>=2.13.0->spacy<3.8.0,>=3.7.0->es-core-news-lg==3.7.0) (2.0.7)\n",
            "Requirement already satisfied: certifi>=2017.4.17 in /usr/local/lib/python3.10/dist-packages (from requests<3.0.0,>=2.13.0->spacy<3.8.0,>=3.7.0->es-core-news-lg==3.7.0) (2024.6.2)\n",
            "Requirement already satisfied: blis<0.8.0,>=0.7.8 in /usr/local/lib/python3.10/dist-packages (from thinc<8.3.0,>=8.2.2->spacy<3.8.0,>=3.7.0->es-core-news-lg==3.7.0) (0.7.11)\n",
            "Requirement already satisfied: confection<1.0.0,>=0.0.1 in /usr/local/lib/python3.10/dist-packages (from thinc<8.3.0,>=8.2.2->spacy<3.8.0,>=3.7.0->es-core-news-lg==3.7.0) (0.1.5)\n",
            "Requirement already satisfied: click>=8.0.0 in /usr/local/lib/python3.10/dist-packages (from typer<1.0.0,>=0.3.0->spacy<3.8.0,>=3.7.0->es-core-news-lg==3.7.0) (8.1.7)\n",
            "Requirement already satisfied: shellingham>=1.3.0 in /usr/local/lib/python3.10/dist-packages (from typer<1.0.0,>=0.3.0->spacy<3.8.0,>=3.7.0->es-core-news-lg==3.7.0) (1.5.4)\n",
            "Requirement already satisfied: rich>=10.11.0 in /usr/local/lib/python3.10/dist-packages (from typer<1.0.0,>=0.3.0->spacy<3.8.0,>=3.7.0->es-core-news-lg==3.7.0) (13.7.1)\n",
            "Requirement already satisfied: cloudpathlib<1.0.0,>=0.7.0 in /usr/local/lib/python3.10/dist-packages (from weasel<0.5.0,>=0.1.0->spacy<3.8.0,>=3.7.0->es-core-news-lg==3.7.0) (0.18.1)\n",
            "Requirement already satisfied: smart-open<8.0.0,>=5.2.1 in /usr/local/lib/python3.10/dist-packages (from weasel<0.5.0,>=0.1.0->spacy<3.8.0,>=3.7.0->es-core-news-lg==3.7.0) (7.0.4)\n",
            "Requirement already satisfied: MarkupSafe>=2.0 in /usr/local/lib/python3.10/dist-packages (from jinja2->spacy<3.8.0,>=3.7.0->es-core-news-lg==3.7.0) (2.1.5)\n",
            "Requirement already satisfied: marisa-trie>=0.7.7 in /usr/local/lib/python3.10/dist-packages (from language-data>=1.2->langcodes<4.0.0,>=3.2.0->spacy<3.8.0,>=3.7.0->es-core-news-lg==3.7.0) (1.2.0)\n",
            "Requirement already satisfied: markdown-it-py>=2.2.0 in /usr/local/lib/python3.10/dist-packages (from rich>=10.11.0->typer<1.0.0,>=0.3.0->spacy<3.8.0,>=3.7.0->es-core-news-lg==3.7.0) (3.0.0)\n",
            "Requirement already satisfied: pygments<3.0.0,>=2.13.0 in /usr/local/lib/python3.10/dist-packages (from rich>=10.11.0->typer<1.0.0,>=0.3.0->spacy<3.8.0,>=3.7.0->es-core-news-lg==3.7.0) (2.16.1)\n",
            "Requirement already satisfied: wrapt in /usr/local/lib/python3.10/dist-packages (from smart-open<8.0.0,>=5.2.1->weasel<0.5.0,>=0.1.0->spacy<3.8.0,>=3.7.0->es-core-news-lg==3.7.0) (1.14.1)\n",
            "Requirement already satisfied: mdurl~=0.1 in /usr/local/lib/python3.10/dist-packages (from markdown-it-py>=2.2.0->rich>=10.11.0->typer<1.0.0,>=0.3.0->spacy<3.8.0,>=3.7.0->es-core-news-lg==3.7.0) (0.1.2)\n",
            "Installing collected packages: es-core-news-lg\n",
            "Successfully installed es-core-news-lg-3.7.0\n",
            "\u001b[38;5;2m✔ Download and installation successful\u001b[0m\n",
            "You can now load the package via spacy.load('es_core_news_lg')\n",
            "\u001b[38;5;3m⚠ Restart to reload dependencies\u001b[0m\n",
            "If you are in a Jupyter or Colab notebook, you may need to restart Python in\n",
            "order to load all the package's dependencies. You can do this by selecting the\n",
            "'Restart kernel' or 'Restart runtime' option.\n"
          ]
        }
      ]
    },
    {
      "cell_type": "markdown",
      "source": [
        "**🖐️Importante:** Es posible que sea necesario reiniciar Google Colab en la pestaña **'Entorno de Ejecución'** > **'Reiniciar entorno de ejecución'** para completar la instalación."
      ],
      "metadata": {
        "id": "qcZTWjzR9SKf"
      }
    },
    {
      "cell_type": "markdown",
      "source": [
        "Una vez instalado, cargamos el modelo a utilizar. En este caso será el modelo de Español grande *(large: lg)*. Utilizar un modelo pequeño *(small: sm)* no nos brindaría los vectores de embedding que buscamos utilizar."
      ],
      "metadata": {
        "id": "O8Kl3g_tS5T9"
      }
    },
    {
      "cell_type": "code",
      "execution_count": 2,
      "metadata": {
        "id": "m-FBWAopVEqG"
      },
      "outputs": [],
      "source": [
        "import spacy\n",
        "\n",
        "# Cargamos el modelo grande en Español.\n",
        "nlp = spacy.load(\"es_core_news_lg\")"
      ]
    },
    {
      "cell_type": "code",
      "source": [
        "text = \"\"\"La inteligencia artificial es en informática, la inteligencia expresada por máquinas,\n",
        "          sus procesadores y sus softwares, que serían los análogos al cuerpo, el cerebro y la mente,\n",
        "          respectivamente, a diferencia de la inteligencia natural demostrada por humanos y ciertos\n",
        "          animales con cerebros complejos. 1​ Se considera que el origen de la IA se remonta a los intentos\n",
        "          del hombre desde la antigüedad por incrementar sus potencialidades físicas e intelectuales,\n",
        "          creando artefactos con automatismos y simulando la forma y las habilidades de los seres humanos.\"\"\"\n",
        "\n",
        "# Procesamos el texto.\n",
        "doc = nlp(text)\n",
        "\n",
        "# Podemos empezar a utilizar Spacy para analizar los elementos del texto.\n",
        "print(\"Nouns:\", [token.lemma_ for token in doc if token.pos_ == \"NOUN\"])\n",
        "print(\"Verbs:\", [token.lemma_ for token in doc if token.pos_ == \"VERB\"])"
      ],
      "metadata": {
        "colab": {
          "base_uri": "https://localhost:8080/"
        },
        "id": "VSn2bx8kXBcs",
        "outputId": "ffe49d1a-fc08-4006-c77a-d84ae5e36afa"
      },
      "execution_count": 3,
      "outputs": [
        {
          "output_type": "stream",
          "name": "stdout",
          "text": [
            "Nouns: ['inteligencia', 'informática', 'inteligencia', 'máquina', 'procesador', 'software', 'cuerpo', 'cerebro', 'mente', 'diferencia', 'inteligencia', 'humanos', 'animal', 'cerebro', 'origen', 'intento', 'hombre', 'antigüedad', 'potencialidad', 'artefacto', 'automatismo', 'forma', 'habilidad', 'ser']\n",
            "Verbs: ['considerar', 'remontar', 'incrementar', 'crear', 'simular']\n"
          ]
        }
      ]
    },
    {
      "cell_type": "code",
      "source": [
        "# Podemos utilizar Spacy para analizar el Part-OF Speech (POS)\n",
        "for token in doc[0:5]:\n",
        "  print(token.pos_ , \":\", token)"
      ],
      "metadata": {
        "colab": {
          "base_uri": "https://localhost:8080/"
        },
        "id": "ShmMLSZWZ6GT",
        "outputId": "42565a54-95a7-493f-cf55-00cbbcd9106c"
      },
      "execution_count": 4,
      "outputs": [
        {
          "output_type": "stream",
          "name": "stdout",
          "text": [
            "DET : La\n",
            "NOUN : inteligencia\n",
            "ADJ : artificial\n",
            "AUX : es\n",
            "ADP : en\n"
          ]
        }
      ]
    },
    {
      "cell_type": "code",
      "source": [
        "# Procesamos una nueva frase.\n",
        "doc = nlp(\"gato perro avión coche ordenador manzana móvil dos tres cuatro cinco\")\n",
        "\n",
        "# Extraemos palabras.\n",
        "word0 = doc[0]\n",
        "word1 = doc[1]\n",
        "word2 = doc[2]\n",
        "\n",
        "# Calculamos la similitud entre dos palabras.\n",
        "print(word0.similarity(word2))\n",
        "\n",
        "# Calculamos la similitud entre dos frases.\n",
        "doc1 = nlp(\"Me gusta ir al parque, pero no ir al supermercado\")\n",
        "doc2 = nlp(\"Disfruto yendo al parque, no tanto yendo a comprar al supermercado\")\n",
        "doc3 = nlp(\"La prima de riesgo cayó drásticamente desde 2012\")\n",
        "\n",
        "print(\"Similitud Frase 1 y 2:\", doc1.similarity(doc2))\n",
        "print(\"Similitud Frase 1 y 3:\", doc1.similarity(doc3))\n",
        "print(\"Similitud Frase 2 y 3:\", doc2.similarity(doc3))\n",
        "\n",
        "# ¿Cuál es el tamaño de los vectores Word2Vec?\n",
        "print(\"Longitud Word-2-Vec:\", len(word1.vector))"
      ],
      "metadata": {
        "colab": {
          "base_uri": "https://localhost:8080/"
        },
        "id": "A0SSGCz5cDJP",
        "outputId": "bb5f2e08-0fd6-4bd2-cc77-1e81bf935e13"
      },
      "execution_count": 5,
      "outputs": [
        {
          "output_type": "stream",
          "name": "stdout",
          "text": [
            "0.17108772695064545\n",
            "Similitud Frase 1 y 2: 0.6985381732510927\n",
            "Similitud Frase 1 y 3: -0.23459900708074838\n",
            "Similitud Frase 2 y 3: -0.012916836733047799\n",
            "Longitud Word-2-Vec: 300\n"
          ]
        }
      ]
    },
    {
      "cell_type": "code",
      "source": [
        "word0.vector"
      ],
      "metadata": {
        "id": "_jjSger5tXcI",
        "colab": {
          "base_uri": "https://localhost:8080/"
        },
        "outputId": "28b5f0cf-552d-4fb1-fd87-034cfc950649"
      },
      "execution_count": 6,
      "outputs": [
        {
          "output_type": "execute_result",
          "data": {
            "text/plain": [
              "array([-0.3633  , -0.48841 , -2.7278  ,  2.3517  ,  1.6459  , -0.14743 ,\n",
              "       -3.071   ,  0.43446 ,  2.376   ,  2.939   , -3.1857  , -1.3094  ,\n",
              "        1.8059  , -1.7071  , -0.98022 , -1.7231  , -2.4354  , -2.9543  ,\n",
              "        0.64656 , -2.2967  ,  0.34807 , -2.8105  ,  1.1762  ,  3.2424  ,\n",
              "        0.18839 , -2.8763  , -0.85192 , -1.8524  , -2.2221  ,  3.7512  ,\n",
              "       -3.0247  ,  0.58154 ,  1.5971  ,  1.6494  , -0.64399 ,  1.8924  ,\n",
              "        0.77904 , -1.6907  , -0.94121 , -0.28061 ,  0.9683  ,  2.1969  ,\n",
              "        1.0211  ,  2.092   , -2.2401  , -1.7143  , -0.44994 ,  0.071469,\n",
              "        1.3566  , -3.014   ,  1.2851  ,  0.27378 ,  1.2742  ,  0.55748 ,\n",
              "       -3.4488  , -0.16216 , -0.24527 , -0.93641 ,  0.94152 ,  2.3763  ,\n",
              "        0.53665 ,  0.89439 ,  2.1799  ,  1.0793  ,  1.0502  , -2.5831  ,\n",
              "        1.8174  , -2.0587  , -3.7014  ,  3.5125  , -2.5576  , -0.21629 ,\n",
              "       -3.1582  , -2.1678  ,  2.6088  , -2.1502  , -1.7187  ,  2.1234  ,\n",
              "       -3.6737  , -4.2948  ,  0.28615 , -1.4556  ,  1.5618  , -1.1729  ,\n",
              "       -4.9728  ,  0.60744 , -2.2477  , -3.1606  , -1.5781  , -0.69417 ,\n",
              "       -0.32749 ,  1.5317  , -1.2592  , -2.7738  ,  1.14    ,  0.46923 ,\n",
              "       -0.87273 , -0.21848 ,  0.22565 , -0.59636 , -1.9601  ,  1.9623  ,\n",
              "        1.1068  ,  3.9961  , -0.011909,  2.8441  , -3.4065  , -1.0487  ,\n",
              "       -0.22615 , -3.1205  ,  0.43137 ,  1.8768  , -0.61303 ,  1.5307  ,\n",
              "       -1.6693  ,  2.6521  , -3.9042  ,  0.65099 , -3.865   ,  0.071395,\n",
              "       -0.19876 , -0.53764 , -0.7734  , -0.85461 ,  1.8388  , -2.048   ,\n",
              "        1.4305  ,  2.0518  ,  1.926   , -0.17568 , -0.87003 ,  2.5502  ,\n",
              "        4.247   , -1.3054  ,  1.5488  ,  0.43527 , -2.2223  ,  2.726   ,\n",
              "       -0.1085  ,  0.89474 , -0.42681 , -1.181   , -0.83361 , -1.0829  ,\n",
              "        0.98432 ,  5.2924  , -2.1318  , -0.1971  , -0.73554 ,  4.4138  ,\n",
              "       -1.0698  ,  1.0611  ,  0.42646 ,  2.5666  ,  0.13698 ,  0.3878  ,\n",
              "        3.4338  ,  0.80204 ,  1.9867  , -6.2636  ,  1.2783  ,  2.1879  ,\n",
              "        1.9532  ,  4.5902  , -0.40992 ,  4.4139  ,  1.3003  , -3.671   ,\n",
              "       -1.1165  ,  3.484   ,  0.93629 ,  1.5106  , -2.1363  , -0.057473,\n",
              "       -0.73711 ,  0.090913,  2.6206  ,  3.3185  , -1.4552  ,  2.1621  ,\n",
              "        0.47805 ,  0.78012 , -4.8698  , -0.83735 ,  3.4817  , -2.7028  ,\n",
              "       -4.4796  ,  2.5653  ,  2.4439  , -1.326   ,  2.1689  ,  0.44454 ,\n",
              "        2.6548  ,  1.1941  ,  0.77388 , -1.0307  , -0.36114 ,  0.76456 ,\n",
              "        0.13615 ,  0.60107 , -1.9584  , -1.8456  ,  2.7714  , -0.40363 ,\n",
              "       -2.0218  , -2.7975  ,  0.87308 , -0.60881 ,  0.54529 , -0.83025 ,\n",
              "       -2.6085  , -0.61694 , -1.3153  , -0.93897 ,  1.2439  ,  1.6728  ,\n",
              "        3.6878  ,  1.1282  ,  0.76686 , -0.65263 , -0.38874 , -5.5994  ,\n",
              "       -1.7555  ,  1.3363  ,  2.3496  ,  0.43585 , -0.95383 ,  0.13321 ,\n",
              "       -1.9174  , -0.18698 , -0.42904 , -2.4861  , -0.84611 ,  1.4622  ,\n",
              "       -1.0449  ,  0.97269 , -1.8023  , -1.3815  ,  1.2853  , -0.31632 ,\n",
              "       -0.5437  ,  0.83663 ,  2.0028  , -2.0846  , -1.0597  ,  2.8311  ,\n",
              "       -1.0626  ,  0.28471 ,  1.6699  ,  2.5709  , -1.3432  ,  2.5363  ,\n",
              "        1.8258  , -3.5312  , -0.36535 , -1.491   ,  1.5293  ,  0.76608 ,\n",
              "       -2.2002  , -3.0562  , -2.1962  ,  0.95726 ,  2.4487  , -0.57422 ,\n",
              "       -2.5642  ,  1.7715  , -0.82127 , -3.1916  ,  0.32214 ,  2.2568  ,\n",
              "       -2.7959  , -0.39209 , -2.1158  ,  1.4973  , -0.83545 , -1.6194  ,\n",
              "        1.3295  ,  2.1082  ,  0.14522 , -5.5109  , -0.10648 , -0.624   ,\n",
              "       -2.8821  ,  0.12921 ,  0.3974  ,  1.1959  , -3.0543  ,  0.58479 ,\n",
              "       -2.5255  ,  1.3405  ,  0.66003 ,  0.26409 , -0.70738 , -0.75407 ,\n",
              "       -1.237   , -3.6562  , -2.3117  , -2.4754  , -1.362   ,  0.68819 ],\n",
              "      dtype=float32)"
            ]
          },
          "metadata": {},
          "execution_count": 6
        }
      ]
    },
    {
      "cell_type": "markdown",
      "source": [
        "En ocasiones nos puede interesar trabajar con vectores de menor tamaño y para ello aplicar reducciones de dimensionalidad es necesario. Una técnica de reducción de dimensionalidad es *Principal Component Analysis*, disponible en la librería **Sklearn**."
      ],
      "metadata": {
        "id": "7qsmlqsUUoog"
      }
    },
    {
      "cell_type": "code",
      "source": [
        "from sklearn.decomposition import PCA\n",
        "\n",
        "# Procesamos unas cuantas palabras.\n",
        "doc = nlp(\"casa edicio perro gato\")\n",
        "\n",
        "# Obtenemos el vector de la primera.\n",
        "vector0 = doc[0].vector\n",
        "vector1 = doc[1].vector\n",
        "vector2 = doc[2].vector\n",
        "\n",
        "# Creamos el objeto PCA e indicamos a qué tamaño queremos reducir\n",
        "# los vectores de tamaño 300. En este caso, a dos dimensiones.\n",
        "pca_vectors = PCA(n_components=2).fit_transform([vector0,\n",
        "                                                 vector1,\n",
        "                                                 vector2])\n",
        "\n",
        "# Comprobamos que efectivamente los vectores ahora son de tamaño 2\n",
        "print(pca_vectors.shape)"
      ],
      "metadata": {
        "colab": {
          "base_uri": "https://localhost:8080/"
        },
        "id": "Al1BPZRvWYWB",
        "outputId": "3b71592a-50fa-4723-925a-d0c5222db623"
      },
      "execution_count": 7,
      "outputs": [
        {
          "output_type": "stream",
          "name": "stdout",
          "text": [
            "(3, 2)\n"
          ]
        }
      ]
    },
    {
      "cell_type": "markdown",
      "source": [
        "## **Práctica 1.** Visualizando Words Embeddings.\n",
        "\n",
        "<br>\n",
        "<img src='https://i.imgur.com/dZ4f8sm.png'>\n",
        "<br>\n",
        "\n",
        "Ahora que ya sabemos como convertir nuestro texto a **tokens** (*Tokenizar*) y este pasarlo a **vectores** (*Words Embeddings*), ahora vamos a probar a visualizar unas cuantas palabras y estudiar su similitud a través de su proximidad.\n",
        "\n",
        "---\n",
        "\n",
        "**Tarea:** Implementa un método que tome como input un texto con un listado de palabras. Este método deberá procesar el texto para obtener de cada palabra un vector, y visualizar dichos vectores en 2D. En concreto:\n",
        "\n",
        "- **1º** Procesa el texto con el listado de palabras utilizando SpaCy.\n",
        "- **2º** Añade en un listado todos los vectores juntos.\n",
        "- **3º** Procesa simultaneamente con PCA a todo el listado de vectores.\n",
        "\n",
        "> **Importante:** *(PCA se debe aplicar a todos los vectores conjuntamente para que el procesamiento sea igual para todos ellos.)*\n",
        "\n",
        "- **4º** Visualiza utilizando un *scatterplot()* de Matplotlib los vectores bidimensionales que has obtenido. Puedes usar el método  *plt.annotate()* para añadir el texto informativo a cada punto visualizado.\n"
      ],
      "metadata": {
        "id": "rMjS2FPzfCcv"
      }
    },
    {
      "cell_type": "code",
      "source": [
        "import numpy as np\n",
        "import matplotlib.pyplot as plt\n",
        "from sklearn.decomposition import PCA\n",
        "\n",
        "text = \"gato perro ordenador manzana móvil dos tres cuatro\"\n",
        "\n",
        "# COMIENZA AQUÍ TU CÓDIGO #\n",
        "# Asegurarnos que que el modulo spacy esta montado.\n",
        "import spacy\n",
        "def visualize_embeddings(text):\n",
        "\n",
        "  # ---- Usar Spacy para convertir el texto a vectores\n",
        "    doc = nlp(text)\n",
        "    word_vectors = [token.vector for token in doc]\n",
        "  # ---- Reducir la dimensionalidad con PCA.\n",
        "    pca = PCA(n_components=2)\n",
        "    word_vectors_2d = pca.fit_transform(word_vectors)\n",
        "  # ---- Visualizar estos vectores con Matplotlib.\n",
        "    plt.figure(figsize=(10, 6))\n",
        "    for i, word in enumerate(doc):\n",
        "        plt.scatter(word_vectors_2d[i, 0], word_vectors_2d[i, 1])\n",
        "        plt.annotate(word.text, (word_vectors_2d[i, 0], word_vectors_2d[i, 1]))\n",
        "    plt.title('Word Embeddings - PCA(2)')\n",
        "    plt.show()\n",
        "\n",
        "# Llamar a la función para visualizar los embeddings\n",
        "visualize_embeddings(text)"
      ],
      "metadata": {
        "id": "Mrt4lb-nelCi",
        "colab": {
          "base_uri": "https://localhost:8080/",
          "height": 545
        },
        "outputId": "a9bafd45-63ff-4d61-f14c-2fce731f6ee3"
      },
      "execution_count": 8,
      "outputs": [
        {
          "output_type": "display_data",
          "data": {
            "text/plain": [
              "<Figure size 1000x600 with 1 Axes>"
            ],
            "image/png": "[encoded data removed]"
          },
          "metadata": {}
        }
      ]
    }
  ]
}